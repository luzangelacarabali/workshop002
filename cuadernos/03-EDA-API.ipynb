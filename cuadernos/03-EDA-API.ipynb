{
 "cells": [
  {
   "cell_type": "markdown",
   "id": "d732eeef",
   "metadata": {},
   "source": [
    "### Análisis Exploratorio de Datos (EDA) de la api"
   ]
  },
  {
   "cell_type": "markdown",
   "id": "9277fd4b",
   "metadata": {},
   "source": [
    "En este notebook realizaremos un EDA detallado de la api con imformacion sobre albunes ."
   ]
  },
  {
   "cell_type": "markdown",
   "id": "a2ed452c",
   "metadata": {},
   "source": [
    " ## Importación de librerías"
   ]
  },
  {
   "cell_type": "code",
   "execution_count": 6,
   "id": "95cdb74e",
   "metadata": {},
   "outputs": [],
   "source": [
    "import re\n",
    "import pandas as pd\n",
    "import matplotlib.pyplot as plt\n",
    "import seaborn as sns\n",
    "import pandas as pd\n",
    "import json\n",
    "import numpy as np\n",
    "import os"
   ]
  },
  {
   "cell_type": "code",
   "execution_count": 18,
   "id": "c1f1b228",
   "metadata": {},
   "outputs": [
    {
     "data": {
      "text/html": [
       "<div>\n",
       "<style scoped>\n",
       "    .dataframe tbody tr th:only-of-type {\n",
       "        vertical-align: middle;\n",
       "    }\n",
       "\n",
       "    .dataframe tbody tr th {\n",
       "        vertical-align: top;\n",
       "    }\n",
       "\n",
       "    .dataframe thead th {\n",
       "        text-align: right;\n",
       "    }\n",
       "</style>\n",
       "<table border=\"1\" class=\"dataframe\">\n",
       "  <thead>\n",
       "    <tr style=\"text-align: right;\">\n",
       "      <th></th>\n",
       "      <th>idAlbum</th>\n",
       "      <th>idArtist</th>\n",
       "      <th>idLabel</th>\n",
       "      <th>strAlbum</th>\n",
       "      <th>strAlbumStripped</th>\n",
       "      <th>strArtist</th>\n",
       "      <th>strArtistStripped</th>\n",
       "      <th>intYearReleased</th>\n",
       "      <th>strStyle</th>\n",
       "      <th>strGenre</th>\n",
       "      <th>...</th>\n",
       "      <th>strDiscogsID</th>\n",
       "      <th>strWikidataID</th>\n",
       "      <th>strWikipediaID</th>\n",
       "      <th>strGeniusID</th>\n",
       "      <th>strLyricWikiID</th>\n",
       "      <th>strMusicMozID</th>\n",
       "      <th>strItunesID</th>\n",
       "      <th>strAmazonID</th>\n",
       "      <th>strLocked</th>\n",
       "      <th>strDescription</th>\n",
       "    </tr>\n",
       "  </thead>\n",
       "  <tbody>\n",
       "    <tr>\n",
       "      <th>0</th>\n",
       "      <td>2115886</td>\n",
       "      <td>112024</td>\n",
       "      <td>47129</td>\n",
       "      <td>Thursday</td>\n",
       "      <td>Thursday</td>\n",
       "      <td>The Weeknd</td>\n",
       "      <td>The Weeknd</td>\n",
       "      <td>2011</td>\n",
       "      <td>Urban/R&amp;B</td>\n",
       "      <td>R&amp;B</td>\n",
       "      <td>...</td>\n",
       "      <td>None</td>\n",
       "      <td>None</td>\n",
       "      <td>None</td>\n",
       "      <td>Thursday</td>\n",
       "      <td>None</td>\n",
       "      <td>None</td>\n",
       "      <td>None</td>\n",
       "      <td>None</td>\n",
       "      <td>unlocked</td>\n",
       "      <td>NaN</td>\n",
       "    </tr>\n",
       "    <tr>\n",
       "      <th>1</th>\n",
       "      <td>2115887</td>\n",
       "      <td>112024</td>\n",
       "      <td>47129</td>\n",
       "      <td>House of Balloons</td>\n",
       "      <td>House of Balloons</td>\n",
       "      <td>The Weeknd</td>\n",
       "      <td>The Weeknd</td>\n",
       "      <td>2011</td>\n",
       "      <td>Urban/R&amp;B</td>\n",
       "      <td>R&amp;B</td>\n",
       "      <td>...</td>\n",
       "      <td>399733</td>\n",
       "      <td>Q5914723</td>\n",
       "      <td>House_of_Balloons</td>\n",
       "      <td>House-of-balloons</td>\n",
       "      <td>None</td>\n",
       "      <td>None</td>\n",
       "      <td>None</td>\n",
       "      <td>None</td>\n",
       "      <td>unlocked</td>\n",
       "      <td>NaN</td>\n",
       "    </tr>\n",
       "    <tr>\n",
       "      <th>2</th>\n",
       "      <td>2115888</td>\n",
       "      <td>112024</td>\n",
       "      <td>47129</td>\n",
       "      <td>Echoes of Silence</td>\n",
       "      <td>Echoes of Silence</td>\n",
       "      <td>The Weeknd</td>\n",
       "      <td>The Weeknd</td>\n",
       "      <td>2011</td>\n",
       "      <td>Urban/R&amp;B</td>\n",
       "      <td>R&amp;B</td>\n",
       "      <td>...</td>\n",
       "      <td>399750</td>\n",
       "      <td>None</td>\n",
       "      <td>None</td>\n",
       "      <td>Echoes-of-silence</td>\n",
       "      <td>None</td>\n",
       "      <td>None</td>\n",
       "      <td>None</td>\n",
       "      <td>None</td>\n",
       "      <td>unlocked</td>\n",
       "      <td>NaN</td>\n",
       "    </tr>\n",
       "    <tr>\n",
       "      <th>3</th>\n",
       "      <td>2126189</td>\n",
       "      <td>112024</td>\n",
       "      <td>47129</td>\n",
       "      <td>Trilogy</td>\n",
       "      <td>Trilogy</td>\n",
       "      <td>The Weeknd</td>\n",
       "      <td>The Weeknd</td>\n",
       "      <td>2012</td>\n",
       "      <td>Urban/R&amp;B</td>\n",
       "      <td>R&amp;B</td>\n",
       "      <td>...</td>\n",
       "      <td>None</td>\n",
       "      <td>None</td>\n",
       "      <td>Trilogy_(The_Weeknd_album)</td>\n",
       "      <td>Trilogy</td>\n",
       "      <td>None</td>\n",
       "      <td>None</td>\n",
       "      <td>None</td>\n",
       "      <td>None</td>\n",
       "      <td>unlocked</td>\n",
       "      <td>NaN</td>\n",
       "    </tr>\n",
       "    <tr>\n",
       "      <th>4</th>\n",
       "      <td>2232390</td>\n",
       "      <td>112024</td>\n",
       "      <td>47129</td>\n",
       "      <td>Kiss Land</td>\n",
       "      <td>Kiss Land</td>\n",
       "      <td>The Weeknd</td>\n",
       "      <td>The Weeknd</td>\n",
       "      <td>2013</td>\n",
       "      <td>Urban/R&amp;B</td>\n",
       "      <td>R&amp;B</td>\n",
       "      <td>...</td>\n",
       "      <td>596234</td>\n",
       "      <td>Q17018194</td>\n",
       "      <td>Kiss_Land</td>\n",
       "      <td>Kiss-land</td>\n",
       "      <td>None</td>\n",
       "      <td>None</td>\n",
       "      <td>None</td>\n",
       "      <td>None</td>\n",
       "      <td>unlocked</td>\n",
       "      <td>NaN</td>\n",
       "    </tr>\n",
       "  </tbody>\n",
       "</table>\n",
       "<p>5 rows × 60 columns</p>\n",
       "</div>"
      ],
      "text/plain": [
       "   idAlbum idArtist idLabel           strAlbum   strAlbumStripped   strArtist  \\\n",
       "0  2115886   112024   47129           Thursday           Thursday  The Weeknd   \n",
       "1  2115887   112024   47129  House of Balloons  House of Balloons  The Weeknd   \n",
       "2  2115888   112024   47129  Echoes of Silence  Echoes of Silence  The Weeknd   \n",
       "3  2126189   112024   47129            Trilogy            Trilogy  The Weeknd   \n",
       "4  2232390   112024   47129          Kiss Land          Kiss Land  The Weeknd   \n",
       "\n",
       "  strArtistStripped intYearReleased   strStyle strGenre  ... strDiscogsID  \\\n",
       "0        The Weeknd            2011  Urban/R&B      R&B  ...         None   \n",
       "1        The Weeknd            2011  Urban/R&B      R&B  ...       399733   \n",
       "2        The Weeknd            2011  Urban/R&B      R&B  ...       399750   \n",
       "3        The Weeknd            2012  Urban/R&B      R&B  ...         None   \n",
       "4        The Weeknd            2013  Urban/R&B      R&B  ...       596234   \n",
       "\n",
       "  strWikidataID              strWikipediaID        strGeniusID strLyricWikiID  \\\n",
       "0          None                        None           Thursday           None   \n",
       "1      Q5914723           House_of_Balloons  House-of-balloons           None   \n",
       "2          None                        None  Echoes-of-silence           None   \n",
       "3          None  Trilogy_(The_Weeknd_album)            Trilogy           None   \n",
       "4     Q17018194                   Kiss_Land          Kiss-land           None   \n",
       "\n",
       "  strMusicMozID strItunesID strAmazonID strLocked strDescription  \n",
       "0          None        None        None  unlocked            NaN  \n",
       "1          None        None        None  unlocked            NaN  \n",
       "2          None        None        None  unlocked            NaN  \n",
       "3          None        None        None  unlocked            NaN  \n",
       "4          None        None        None  unlocked            NaN  \n",
       "\n",
       "[5 rows x 60 columns]"
      ]
     },
     "execution_count": 18,
     "metadata": {},
     "output_type": "execute_result"
    }
   ],
   "source": [
    "# Leer archivo desde la ruta proporcionada por el usuario\n",
    "albums_raw_path = '/home/ubuntu/Escritorio/workshop2/data/albums_raw.json'\n",
    "\n",
    "# Cargar datos\n",
    "with open(albums_raw_path, \"r\", encoding=\"utf-8\") as file:\n",
    "    albums_data = json.load(file)\n",
    "\n",
    "# Convertir a DataFrame\n",
    "albums_df_path = pd.DataFrame(albums_data[\"album\"])\n",
    "\n",
    "# Mostrar primeras filas para asegurar lectura correcta\n",
    "albums_df_path.head()\n",
    "\n"
   ]
  },
  {
   "cell_type": "code",
   "execution_count": 19,
   "id": "140cb984",
   "metadata": {},
   "outputs": [],
   "source": [
    "albums_df_path[\"intYearReleased\"] = pd.to_numeric(albums_df_path[\"intYearReleased\"], errors=\"coerce\")\n",
    "albums_df_path[\"intScore\"] = pd.to_numeric(albums_df_path[\"intScore\"], errors=\"coerce\")\n",
    "albums_df_path[\"intScoreVotes\"] = pd.to_numeric(albums_df_path[\"intScoreVotes\"], errors=\"coerce\")"
   ]
  },
  {
   "cell_type": "code",
   "execution_count": 26,
   "id": "5a9c356c",
   "metadata": {},
   "outputs": [
    {
     "data": {
      "text/plain": [
       "(30, 60)"
      ]
     },
     "execution_count": 26,
     "metadata": {},
     "output_type": "execute_result"
    }
   ],
   "source": [
    "albums_df_path.shape\n"
   ]
  },
  {
   "cell_type": "code",
   "execution_count": 31,
   "id": "877b857c",
   "metadata": {},
   "outputs": [
    {
     "name": "stdout",
     "output_type": "stream",
     "text": [
      "🎵 Álbumes únicos: 30\n",
      "🎤 Artistas únicos: 1\n",
      "🏷️ Sellos discográficos únicos: 2\n",
      "📅 Años únicos de lanzamiento: 14\n",
      "🎼 Estilos únicos: 2\n",
      "🎧 Géneros únicos: 2\n",
      "✔️ Con Discogs ID: 5\n",
      "✔️ Con Wikidata ID: 3\n",
      "✔️ Con Wikipedia ID: 5\n",
      "✔️ Con Genius ID: 7\n"
     ]
    }
   ],
   "source": [
    "# Conteo general de categorías clave en el dataset de álbumes\n",
    "\n",
    "print(\"🎵 Álbumes únicos:\", albums_df_path[\"idAlbum\"].nunique())\n",
    "print(\"🎤 Artistas únicos:\", albums_df_path[\"idArtist\"].nunique())\n",
    "print(\"🏷️ Sellos discográficos únicos:\", albums_df_path[\"idLabel\"].nunique())\n",
    "print(\"📅 Años únicos de lanzamiento:\", albums_df_path[\"intYearReleased\"].nunique())\n",
    "print(\"🎼 Estilos únicos:\", albums_df_path[\"strStyle\"].nunique())\n",
    "print(\"🎧 Géneros únicos:\", albums_df_path[\"strGenre\"].nunique())\n",
    "\n",
    "print(\"✔️ Con Discogs ID:\", albums_df_path[\"strDiscogsID\"].notna().sum())\n",
    "print(\"✔️ Con Wikidata ID:\", albums_df_path[\"strWikidataID\"].notna().sum())\n",
    "print(\"✔️ Con Wikipedia ID:\", albums_df_path[\"strWikipediaID\"].notna().sum())\n",
    "print(\"✔️ Con Genius ID:\", albums_df_path[\"strGeniusID\"].notna().sum())\n"
   ]
  },
  {
   "cell_type": "code",
   "execution_count": 33,
   "id": "3724d472",
   "metadata": {},
   "outputs": [
    {
     "name": "stderr",
     "output_type": "stream",
     "text": [
      "/tmp/ipykernel_351455/3784558354.py:8: FutureWarning: \n",
      "\n",
      "Passing `palette` without assigning `hue` is deprecated and will be removed in v0.14.0. Assign the `x` variable to `hue` and set `legend=False` for the same effect.\n",
      "\n",
      "  sns.barplot(x=albums_by_year.index, y=albums_by_year.values, palette=\"coolwarm\")\n"
     ]
    },
    {
     "data": {
      "image/png": "[encoded data removed]",
      "text/plain": [
       "<Figure size 1000x500 with 1 Axes>"
      ]
     },
     "metadata": {},
     "output_type": "display_data"
    }
   ],
   "source": [
    "albums_df_path[\"intYearReleased\"] = pd.to_numeric(albums_df_path[\"intYearReleased\"], errors=\"coerce\")\n",
    "\n",
    "\n",
    "albums_by_year = albums_df_path[\"intYearReleased\"].value_counts().sort_index()\n",
    "\n",
    "\n",
    "plt.figure(figsize=(10, 5))\n",
    "sns.barplot(x=albums_by_year.index, y=albums_by_year.values, palette=\"coolwarm\")\n",
    "\n",
    "# Estética del gráfico\n",
    "plt.title(\"Número de álbumes por año de lanzamiento\")\n",
    "plt.xlabel(\"Año de lanzamiento\")\n",
    "plt.ylabel(\"Cantidad de álbumes\")\n",
    "plt.xticks(rotation=45)\n",
    "plt.tight_layout()\n",
    "plt.show()"
   ]
  }
 ],
 "metadata": {
  "kernelspec": {
   "display_name": "airflow-venv",
   "language": "python",
   "name": "python3"
  },
  "language_info": {
   "codemirror_mode": {
    "name": "ipython",
    "version": 3
   },
   "file_extension": ".py",
   "mimetype": "text/x-python",
   "name": "python",
   "nbconvert_exporter": "python",
   "pygments_lexer": "ipython3",
   "version": "3.9.21"
  }
 },
 "nbformat": 4,
 "nbformat_minor": 5
}
